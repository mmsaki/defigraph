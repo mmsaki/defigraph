{
 "cells": [
  {
   "cell_type": "markdown",
   "metadata": {},
   "source": [
    "# Tutorial"
   ]
  },
  {
   "cell_type": "code",
   "execution_count": 1,
   "metadata": {},
   "outputs": [],
   "source": [
    "# import modules: `pip install defigraph` or `python -m pip install -e .`\n",
    "from defigraph.Graph import Graph\n",
    "from defigraph.Edge import Edge\n",
    "from defigraph.Vertex import Vertex\n",
    "from defigraph.Pool import Pool"
   ]
  },
  {
   "cell_type": "markdown",
   "metadata": {},
   "source": [
    "## 1.0 Get Decentralize Exchange (DEX) token data"
   ]
  },
  {
   "cell_type": "code",
   "execution_count": 2,
   "metadata": {},
   "outputs": [],
   "source": [
    "# Option 1: Use data from cached results\n",
    "import json\n",
    "\n",
    "with open(\"data.json\") as f:\n",
    "    data = json.load(f)"
   ]
  },
  {
   "cell_type": "code",
   "execution_count": 19,
   "metadata": {},
   "outputs": [],
   "source": [
    "# Option 2: Use data from API Call\n",
    "import os\n",
    "import requests\n",
    "from dotenv import load_dotenv\n",
    "\n",
    "load_dotenv()\n",
    "\n",
    "api_key = os.getenv(\"api_key\")\n",
    "base_url = \"https://gateway.thegraph.com/api\"\n",
    "# ETH-mainnet\n",
    "subgraph_id = \"5zvR82QoaXYFyDEKLZ9t6v9adgnptxYpKpSbxtgVENFV\"  # Uniswap V3\n",
    "subgraph_url = f\"{base_url}/subgraphs/id/{subgraph_id}\"\n",
    "headers = {\"Content-Type\": \"application/json\", \"Authorization\": f\"Bearer {api_key}\"}\n",
    "payload = {\n",
    "    \"query\": \"{ pools (orderBy: volumeUSD, orderDirection: desc, first: 50) { token0 { name symbol decimals id } token0Price token1Price token1 { decimals name symbol id } feeTier id } }\"\n",
    "}  # V3\n",
    "response = requests.post(subgraph_url, headers=headers, json=payload)\n",
    "\n",
    "# Check if the request was successful\n",
    "if response.status_code == 200:\n",
    "    data = response.json()[\"data\"][\"pools\"]\n",
    "else:\n",
    "    print(\"Error:\", response.text)"
   ]
  },
  {
   "cell_type": "markdown",
   "metadata": {},
   "source": [
    "## 1.1 Build Defi Graph"
   ]
  },
  {
   "cell_type": "code",
   "execution_count": 20,
   "metadata": {},
   "outputs": [],
   "source": [
    "from web3 import Web3\n",
    "\n",
    "edges = []\n",
    "\n",
    "for pool in data:\n",
    "    fee = pool[\"feeTier\"]\n",
    "\n",
    "    token0 = pool[\"token0\"][\"symbol\"]\n",
    "    token0_decimals = int(pool[\"token0\"][\"decimals\"])\n",
    "    token0_address = Web3.to_checksum_address(pool[\"token0\"][\"id\"])\n",
    "    token0Price = float(pool[\"token0Price\"])\n",
    "\n",
    "    token1 = pool[\"token1\"][\"symbol\"]\n",
    "    token1_decimals = int(pool[\"token1\"][\"decimals\"])\n",
    "    token1_address = Web3.to_checksum_address(pool[\"token1\"][\"id\"])\n",
    "    token1Price = float(pool[\"token1Price\"])\n",
    "\n",
    "    pool_address = Web3.to_checksum_address(pool[\"id\"])\n",
    "\n",
    "    u = Vertex(token0, token0_decimals, token0_address)\n",
    "    v = Vertex(token1, token1_decimals, token1_address)\n",
    "\n",
    "    pool = Pool(\n",
    "        pool_address=pool_address,\n",
    "        token0=u,\n",
    "        token1=v,\n",
    "        fee=fee,\n",
    "        token0_price=token0Price,\n",
    "        token1_price=token1Price,\n",
    "    )\n",
    "    pool2 = Pool(\n",
    "        pool_address=pool_address,\n",
    "        token0=v,\n",
    "        token1=u,\n",
    "        fee=fee,\n",
    "        token0_price=token1Price,\n",
    "        token1_price=token0Price,\n",
    "    )\n",
    "    edge = Edge(pool=pool)\n",
    "    edge2 = Edge(pool=pool2)\n",
    "    edges.append(edge)\n",
    "    edges.append(edge2)\n",
    "\n",
    "g = Graph(edges=edges)"
   ]
  },
  {
   "cell_type": "code",
   "execution_count": 21,
   "metadata": {},
   "outputs": [
    {
     "name": "stdout",
     "output_type": "stream",
     "text": [
      "No. of vertices 30\n",
      "No. of edges 100\n"
     ]
    }
   ],
   "source": [
    "print(f\"No. of vertices {len(g.vertices)}\")\n",
    "print(f\"No. of edges {len(g.get_edges())}\")"
   ]
  },
  {
   "cell_type": "markdown",
   "metadata": {},
   "source": [
    "## 2. Bellman-Ford Algorithm"
   ]
  },
  {
   "cell_type": "code",
   "execution_count": 36,
   "metadata": {},
   "outputs": [
    {
     "name": "stdout",
     "output_type": "stream",
     "text": [
      "🌟 CYCLE FOUND (0.005096959752283212, (USDC, UST, '100'))\n",
      "UST -> USDC -> UST\n",
      "Pools: [((UST, USDC, '500'), '0x92995D179a5528334356cB4Dc5c6cbb1c068696C'), ((USDC, UST, '100'), '0x18D96B617a3e5C42a2Ada4bC5d1B48e223f17D0D')]\n",
      "Profit: 22.541188275053788 = 0.005096959752283212 + -3.1204411854771723\n",
      "\n",
      "🌟 CYCLE FOUND (14.165996771154887, (WETH, HEX, '3000'))\n",
      "HEX -> WETH -> HEX\n",
      "Pools: [((HEX, WETH, '3000'), '0x9e0905249CeEFfFB9605E034b534544684A58BE6'), ((WETH, HEX, '3000'), '0x9e0905249CeEFfFB9605E034b534544684A58BE6')]\n",
      "Profit: 1.0 = 14.165996771154887 + -14.165996771154887\n",
      "\n",
      "🌟 CYCLE FOUND (-0.0006230051948524725, (USDT, DAI, '500'))\n",
      "DAI -> USDT -> DAI\n",
      "Pools: [((DAI, USDT, '100'), '0x48DA0965ab2d2cbf1C17C09cFB5Cbe67Ad5B1406'), ((USDT, DAI, '500'), '0x6f48ECa74B38d2936B02ab603FF4e36A6C0E3A77')]\n",
      "Profit: 1.000140638971197 = -0.0006230051948524725 + 0.0004823761123883773\n",
      "\n",
      "[((UST, USDC, '500'), '0x92995D179a5528334356cB4Dc5c6cbb1c068696C'), ((USDC, UST, '100'), '0x18D96B617a3e5C42a2Ada4bC5d1B48e223f17D0D')]\n",
      "[((HEX, WETH, '3000'), '0x9e0905249CeEFfFB9605E034b534544684A58BE6'), ((WETH, HEX, '3000'), '0x9e0905249CeEFfFB9605E034b534544684A58BE6')]\n",
      "[((DAI, USDT, '100'), '0x48DA0965ab2d2cbf1C17C09cFB5Cbe67Ad5B1406'), ((USDT, DAI, '500'), '0x6f48ECa74B38d2936B02ab603FF4e36A6C0E3A77')]\n"
     ]
    }
   ],
   "source": [
    "import math\n",
    "\n",
    "all_neg_cycles = []\n",
    "\n",
    "\n",
    "def bellman_ford(graph: Graph, start_vertex: Vertex):\n",
    "    # 1. Initialize distances\n",
    "    distances = {key: float(\"inf\") for key in graph.vertices}\n",
    "    predecessor = {key: None for key in graph.vertices}\n",
    "    distances[start_vertex] = 0\n",
    "\n",
    "    # 2. Relax edges for n - 1 steps\n",
    "    for i in range(len(graph.vertices) - 1):\n",
    "        for edge in g.get_edges():\n",
    "            (u, v, w) = edge\n",
    "            if distances[u] + w[0] < distances[v]:\n",
    "                distances[v] = distances[u] + w[0]\n",
    "                predecessor[v] = (u, w)\n",
    "\n",
    "    # 3. Detect negative cycle\n",
    "    for edge in g.get_edges():\n",
    "        (u, v, w) = edge\n",
    "\n",
    "        if distances[u] + w[0] < distances[v]:\n",
    "            cycle = []\n",
    "            # 1. add last token pool to cycle\n",
    "            # 2. add 2nd last token pool to cycle\n",
    "            cycle.append((w[1], w[1].address))\n",
    "            cycle.append((predecessor[u][1][1], predecessor[u][1][1].address))\n",
    "\n",
    "            # 1. use last token as start\n",
    "            # 2. initialize path tracing\n",
    "            # 3. initialize weight calcualtion\n",
    "            # 4. start with u token predecessor\n",
    "            start = v\n",
    "            s = f\"{v} <- {u} <- \"\n",
    "            c = f\"{str(w[0])} + {str(predecessor[u][1][0])}\"\n",
    "            curr = predecessor[u][0]\n",
    "\n",
    "            visited = set()\n",
    "            visited.add(w)\n",
    "            visited.add(predecessor[u][1])\n",
    "            while curr != start:\n",
    "                if predecessor[curr][1] in visited:\n",
    "                    ###### ignoring cycles whose edge we have visted #####\n",
    "                    cycle = []\n",
    "                    break\n",
    "                visited.add(predecessor[curr][1])\n",
    "                # 1. add next path trace\n",
    "                # 2. add next cycle weight\n",
    "                # 3. add next token pool to path\n",
    "                # 4. update next token\n",
    "                s += f\"{curr} <- \"\n",
    "                c += f\" + {str(predecessor[curr][1][0])}\"\n",
    "                cycle.append((predecessor[curr][1][1], predecessor[curr][1][1].address))\n",
    "                curr = predecessor[curr][0]\n",
    "\n",
    "            s += f\"{curr}\"\n",
    "            if cycle:\n",
    "                print(\"🌟 CYCLE FOUND\", w)\n",
    "                print(\" -> \".join(s.split(\" <- \")[::-1]))\n",
    "                print(f\"Pools: {cycle[::-1]}\")\n",
    "                print(f\"Profit: {math.e ** -eval(c)} = {c}\\n\")\n",
    "                all_neg_cycles.append(cycle[::-1])\n",
    "        # break\n",
    "    return distances, predecessor\n",
    "\n",
    "\n",
    "bellman_ford(\n",
    "    g,\n",
    "    Vertex(\n",
    "        \"WETH\",\n",
    "        18,\n",
    "        Web3.to_checksum_address(\"0xc02aaa39b223fe8d0a0e5c4f27ead9083c756cc2\"),\n",
    "    ),\n",
    ")\n",
    "for i in all_neg_cycles:\n",
    "    print(i)"
   ]
  },
  {
   "cell_type": "code",
   "execution_count": null,
   "metadata": {},
   "outputs": [],
   "source": [
    "math.e ** -(-7.830020249256383 + 0.0009123075118552688 + 7.826887505027506)"
   ]
  },
  {
   "cell_type": "code",
   "execution_count": null,
   "metadata": {},
   "outputs": [],
   "source": [
    "import networkx as nx\n",
    "import matplotlib.pyplot as plt\n",
    "import itertools as it\n",
    "\n",
    "G = nx.MultiDiGraph()\n",
    "print(edges)\n",
    "print(g.vertices)\n",
    "G.add_weighted_edges_from(edges)\n",
    "plt.figure(3, figsize=(10, 10), dpi=300)\n",
    "\n",
    "pos = nx.circular_layout(G)\n",
    "\n",
    "nx.draw_networkx_nodes(G, pos, node_color=\"tab:blue\", node_size=800)\n",
    "connectionstyle = [f\"arc3,rad={r}\" for r in it.accumulate([0.04] * 4)]\n",
    "nx.draw_networkx_edges(\n",
    "    G,\n",
    "    pos,\n",
    "    edge_color=\"black\",\n",
    "    width=0.4,\n",
    "    connectionstyle=connectionstyle,\n",
    "    min_source_margin=5,\n",
    "    min_target_margin=5,\n",
    "    style=\"dotted\",\n",
    "    arrowsize=5,\n",
    "    node_size=1000,\n",
    ")\n",
    "nx.draw_networkx_labels(\n",
    "    G, pos, font_size=4, font_family=\"sans-serif\", font_color=\"white\"\n",
    ")\n",
    "nx.draw_networkx_edge_labels(\n",
    "    G,\n",
    "    pos,\n",
    "    font_size=3,\n",
    "    connectionstyle=connectionstyle,\n",
    "    edge_labels={(u, v): d[\"weight\"] for u, v, d in G.edges(data=True)},\n",
    ")\n",
    "\n",
    "plt.axis(\"off\")\n",
    "plt.show()"
   ]
  },
  {
   "cell_type": "code",
   "execution_count": null,
   "metadata": {},
   "outputs": [],
   "source": [
    "weth = g[\n",
    "    Vertex(\n",
    "        \"WETH\",\n",
    "        18,\n",
    "        Web3.to_checksum_address(\"0xc02aaa39b223fe8d0a0e5c4f27ead9083c756cc2\"),\n",
    "    )\n",
    "][0][0]\n",
    "usdc = g[\n",
    "    Vertex(\n",
    "        \"WETH\",\n",
    "        18,\n",
    "        Web3.to_checksum_address(\"0xc02aaa39b223fe8d0a0e5c4f27ead9083c756cc2\"),\n",
    "    )\n",
    "][0][1]"
   ]
  }
 ],
 "metadata": {
  "kernelspec": {
   "display_name": "venv",
   "language": "python",
   "name": "python3"
  },
  "language_info": {
   "codemirror_mode": {
    "name": "ipython",
    "version": 3
   },
   "file_extension": ".py",
   "mimetype": "text/x-python",
   "name": "python",
   "nbconvert_exporter": "python",
   "pygments_lexer": "ipython3",
   "version": "3.10.9"
  }
 },
 "nbformat": 4,
 "nbformat_minor": 2
}
